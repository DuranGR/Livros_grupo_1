{
 "cells": [
  {
   "cell_type": "code",
   "execution_count": 1,
   "metadata": {},
   "outputs": [],
   "source": [
    "import pandas as pd\n",
    "from selenium.webdriver import Chrome\n",
    "from selenium import webdriver\n",
    "from time import sleep\n",
    "from tqdm.notebook import tqdm\n",
    "from selenium.webdriver.common.keys import Keys"
   ]
  },
  {
   "cell_type": "code",
   "execution_count": 2,
   "metadata": {},
   "outputs": [],
   "source": [
    "publishNews = pd.read_excel('df_skoob.xlsx')"
   ]
  },
  {
   "cell_type": "code",
   "execution_count": 3,
   "metadata": {},
   "outputs": [
    {
     "name": "stdout",
     "output_type": "stream",
     "text": [
      "<class 'pandas.core.frame.DataFrame'>\n",
      "RangeIndex: 10188 entries, 0 to 10187\n",
      "Data columns (total 10 columns):\n",
      " #   Column        Non-Null Count  Dtype \n",
      "---  ------        --------------  ----- \n",
      " 0   Unnamed: 0    10188 non-null  int64 \n",
      " 1   Unnamed: 0.1  10188 non-null  int64 \n",
      " 2   titulo        10188 non-null  object\n",
      " 3   autor         10188 non-null  object\n",
      " 4   editora       10188 non-null  object\n",
      " 5   categoria     10188 non-null  object\n",
      " 6   paginas       10188 non-null  object\n",
      " 7   isbn          10188 non-null  int64 \n",
      " 8   nota          10188 non-null  object\n",
      " 9   avaliacoes    10188 non-null  object\n",
      "dtypes: int64(3), object(7)\n",
      "memory usage: 796.1+ KB\n"
     ]
    }
   ],
   "source": [
    "publishNews.info()"
   ]
  },
  {
   "cell_type": "code",
   "execution_count": 4,
   "metadata": {},
   "outputs": [],
   "source": [
    "#filtrar apenas as editoras com as quais eu irei trabalhar para saber se no final as informações estarão certas.\n",
    "editoras = publishNews[publishNews['editora'].isin(['Gente','Todavia','L&PM POCKET','Novo Século','Academia','LeYa',\n",
    "                                                    'Astral Cultural','Ática','On Line Editora','Pão Diário',\n",
    "                                                    'WMF Martins Fontes','Figurati','Martins Fontes','Verus','Cultrix',\n",
    "                                                    'Quatro Ventos','Agir','Elsevier','Gutenberg','Editora Vida',\n",
    "                                                    'Cia das Letrinhas','Escrituras','Coquetel','Thomas Nelson Brasil'])]"
   ]
  },
  {
   "cell_type": "code",
   "execution_count": 6,
   "metadata": {},
   "outputs": [],
   "source": [
    "#ativando chromedrive:\n",
    "navegador = webdriver.Chrome('/Users/perolatai/Downloads/chromedriver')"
   ]
  },
  {
   "cell_type": "markdown",
   "metadata": {},
   "source": [
    "### aqui vou criar as funções que utilizarei abaixo"
   ]
  },
  {
   "cell_type": "code",
   "execution_count": 7,
   "metadata": {},
   "outputs": [],
   "source": [
    "#função para filtrar a editora\n",
    "def filtrarEditora(nomeEditora):\n",
    "    return editoras[editoras['editora'].isin([nomeEditora])]"
   ]
  },
  {
   "cell_type": "code",
   "execution_count": 8,
   "metadata": {},
   "outputs": [],
   "source": [
    "#função para verificar o número de duplicados\n",
    "def verificarDuplicados(dataframe, coluna):\n",
    "    #total de itens duplicados\n",
    "    print('Total de itens duplicados: ', len(dataframe[coluna])-len(dataframe[coluna].drop_duplicates()))\n",
    "    #total de itens não duplicados\n",
    "    print('Total de itens não duplicados: ', len(dataframe[coluna].drop_duplicates()))"
   ]
  },
  {
   "cell_type": "code",
   "execution_count": 9,
   "metadata": {},
   "outputs": [],
   "source": [
    "#função para filtrar apenas 1 resultado dos valores duplicados\n",
    "def duplicados(dataframe, coluna):\n",
    "    #filtrando apenas o isbn\n",
    "    return dataframe[coluna].drop_duplicates()"
   ]
  },
  {
   "cell_type": "code",
   "execution_count": 10,
   "metadata": {},
   "outputs": [],
   "source": [
    "#transformando o dicionário em dataframe\n",
    "def dic_dataframe(dicionario, nomeColuna):\n",
    "    return pd.DataFrame.from_dict(data=dicionario, orient='index', columns=[nomeColuna])"
   ]
  },
  {
   "cell_type": "code",
   "execution_count": 11,
   "metadata": {},
   "outputs": [],
   "source": [
    "#função pra resetar o indice:\n",
    "def resetaIndex(dataframe):\n",
    "    return dataframe.reset_index()"
   ]
  },
  {
   "cell_type": "code",
   "execution_count": 12,
   "metadata": {},
   "outputs": [],
   "source": [
    "#renomeando colunas:\n",
    "def renomeiaColuna(dataframe, nomeColuna):\n",
    "    dataframe.columns = ['isbn', nomeColuna]"
   ]
  },
  {
   "cell_type": "markdown",
   "metadata": {},
   "source": [
    "### Editora Gente"
   ]
  },
  {
   "cell_type": "code",
   "execution_count": 13,
   "metadata": {},
   "outputs": [],
   "source": [
    "#filtrando a editora\n",
    "editoraGente = filtrarEditora('Gente')"
   ]
  },
  {
   "cell_type": "code",
   "execution_count": 14,
   "metadata": {
    "scrolled": true
   },
   "outputs": [
    {
     "name": "stdout",
     "output_type": "stream",
     "text": [
      "Total de itens duplicados:  429\n",
      "Total de itens não duplicados:  102\n"
     ]
    }
   ],
   "source": [
    "#verificando os valores duplicados\n",
    "verificarDuplicados(editoraGente, 'isbn')"
   ]
  },
  {
   "cell_type": "code",
   "execution_count": 15,
   "metadata": {},
   "outputs": [],
   "source": [
    "#filtrando isbn não duplicados\n",
    "edGente = duplicados(editoraGente, 'isbn')"
   ]
  },
  {
   "cell_type": "code",
   "execution_count": 49,
   "metadata": {
    "scrolled": true
   },
   "outputs": [
    {
     "data": {
      "application/vnd.jupyter.widget-view+json": {
       "model_id": "24fee1b0e4294333a3ec6e648439b41a",
       "version_major": 2,
       "version_minor": 0
      },
      "text/plain": [
       "HBox(children=(HTML(value=''), FloatProgress(value=0.0, max=102.0), HTML(value='')))"
      ]
     },
     "metadata": {},
     "output_type": "display_data"
    },
    {
     "name": "stdout",
     "output_type": "stream",
     "text": [
      "\n"
     ]
    }
   ],
   "source": [
    "#buscando as informações\n",
    "preco = {}\n",
    "gente = 'https://www.editoragente.com.br/'\n",
    "#barra de progresso\n",
    "with tqdm(total=len(edGente)) as pbar:\n",
    "    for item in edGente:\n",
    "        pbar.update(1)\n",
    "        try:\n",
    "            navegador.get(gente)\n",
    "            sleep(1)\n",
    "            #Clica no campo de busca\n",
    "            navegador.find_element_by_xpath('//div[@class=\"nav-input UI-NAV-INPUT\"]').click()\n",
    "            #busca através do ISBN\n",
    "            digitaCodigo = navegador.find_element_by_xpath('//input[@class=\"input-text UI-SEARCH\"]')\n",
    "            digitaCodigo.send_keys(item)\n",
    "            #clicar em pesquisar\n",
    "            navegador.find_element_by_xpath('//div[@class=\"nav-submit-button\"]').click()\n",
    "            #pegar preço\n",
    "            if navegador.find_element_by_xpath('//span[@class=\"regular-price\"]').text == '':\n",
    "                preco[item] = navegador.find_element_by_xpath('//*[@id=\"old-price-348\"]').text\n",
    "            else:\n",
    "                preco[item] = navegador.find_element_by_xpath('//span[@class=\"regular-price\"]').text\n",
    "            \n",
    "            \n",
    "            #valor = navegador.find_element_by_xpath('//span[@class=\"regular-price\"]')\n",
    "            #preco[item] = valor.text\n",
    "            \n",
    "        except:\n",
    "            preco[item] = 'Não Encontrado'"
   ]
  },
  {
   "cell_type": "code",
   "execution_count": 51,
   "metadata": {},
   "outputs": [],
   "source": [
    "#transformando o dicionário em dataframe\n",
    "dfGente = dic_dataframe(preco, 'preco')\n",
    "#função pra resetar o indice\n",
    "dfGente = resetaIndex(dfGente)\n",
    "#renomeando colunas\n",
    "renomeiaColuna(dfGente, 'preco')"
   ]
  },
  {
   "cell_type": "markdown",
   "metadata": {},
   "source": [
    "### Todavia"
   ]
  },
  {
   "cell_type": "code",
   "execution_count": 53,
   "metadata": {},
   "outputs": [],
   "source": [
    "#filtrando a editora\n",
    "editoraTodavia = filtrarEditora('Todavia')"
   ]
  },
  {
   "cell_type": "code",
   "execution_count": 54,
   "metadata": {},
   "outputs": [
    {
     "name": "stdout",
     "output_type": "stream",
     "text": [
      "Total de itens duplicados:  24\n",
      "Total de itens não duplicados:  2\n"
     ]
    }
   ],
   "source": [
    "#verificando os valores duplicados\n",
    "verificarDuplicados(editoraTodavia, 'isbn')"
   ]
  },
  {
   "cell_type": "code",
   "execution_count": 55,
   "metadata": {},
   "outputs": [],
   "source": [
    "#filtrando isbn não duplicados\n",
    "edTodavia = duplicados(editoraTodavia, 'isbn')"
   ]
  },
  {
   "cell_type": "code",
   "execution_count": 56,
   "metadata": {
    "scrolled": true
   },
   "outputs": [
    {
     "data": {
      "application/vnd.jupyter.widget-view+json": {
       "model_id": "7638087d33464d43a8c3819aed6bf6ff",
       "version_major": 2,
       "version_minor": 0
      },
      "text/plain": [
       "HBox(children=(HTML(value=''), FloatProgress(value=0.0, max=2.0), HTML(value='')))"
      ]
     },
     "metadata": {},
     "output_type": "display_data"
    },
    {
     "name": "stdout",
     "output_type": "stream",
     "text": [
      "\n"
     ]
    }
   ],
   "source": [
    "#buscando as informações\n",
    "preco = {}\n",
    "todavia = 'https://todavialivros.com.br/'\n",
    "#barra de progresso\n",
    "with tqdm(total=len(edTodavia)) as pbar:\n",
    "    for item in edTodavia:\n",
    "        pbar.update(1)\n",
    "        try:\n",
    "            navegador.get(todavia)\n",
    "            sleep(1)\n",
    "            #Clica no campo de busca\n",
    "            navegador.find_element_by_xpath('//a[@id=\"bt-search\"]').click()\n",
    "            #busca através do ISBN\n",
    "            digitaCodigo = navegador.find_element_by_xpath('//*[@id=\"input-search\"]')\n",
    "            digitaCodigo.send_keys(item)\n",
    "            #clicar em pesquisar\n",
    "            navegador.find_element_by_xpath('//button[@class=\"btn btn-default btn-search\"]').click()\n",
    "            #entrar nos detalhes\n",
    "            navegador.find_element_by_xpath('//*[@id=\"search-results\"]/div/div/div/div/article/a/figure').click()\n",
    "            #pegar preço\n",
    "            valor = navegador.find_element_by_xpath('//span[@class=\"price \"]')\n",
    "            preco[item] = valor.text\n",
    "            \n",
    "        except:\n",
    "            preco[item]  = 'Não Encontrado'"
   ]
  },
  {
   "cell_type": "code",
   "execution_count": 57,
   "metadata": {},
   "outputs": [],
   "source": [
    "#transformando o dicionário em dataframe\n",
    "dftodavia = dic_dataframe(preco, 'preco')\n",
    "#função pra resetar o indice\n",
    "dftodavia = resetaIndex(dftodavia)\n",
    "#renomeando colunas\n",
    "renomeiaColuna(dftodavia, 'preco')"
   ]
  },
  {
   "cell_type": "markdown",
   "metadata": {},
   "source": [
    "### Novo Século"
   ]
  },
  {
   "cell_type": "code",
   "execution_count": 59,
   "metadata": {},
   "outputs": [],
   "source": [
    "#filtrando a editora\n",
    "editoraNovoseculo = filtrarEditora('Novo Século')"
   ]
  },
  {
   "cell_type": "code",
   "execution_count": 60,
   "metadata": {},
   "outputs": [
    {
     "name": "stdout",
     "output_type": "stream",
     "text": [
      "Total de itens duplicados:  7\n",
      "Total de itens não duplicados:  8\n"
     ]
    }
   ],
   "source": [
    "#verificando os valores duplicados\n",
    "verificarDuplicados(editoraNovoseculo, 'isbn')"
   ]
  },
  {
   "cell_type": "code",
   "execution_count": 61,
   "metadata": {},
   "outputs": [],
   "source": [
    "#filtrando isbn não duplicados\n",
    "edNovoseculo = duplicados(editoraNovoseculo, 'isbn')"
   ]
  },
  {
   "cell_type": "code",
   "execution_count": 71,
   "metadata": {},
   "outputs": [
    {
     "data": {
      "application/vnd.jupyter.widget-view+json": {
       "model_id": "eb91057991b14f57a69619b48a8620e0",
       "version_major": 2,
       "version_minor": 0
      },
      "text/plain": [
       "HBox(children=(HTML(value=''), FloatProgress(value=0.0, max=8.0), HTML(value='')))"
      ]
     },
     "metadata": {},
     "output_type": "display_data"
    },
    {
     "name": "stdout",
     "output_type": "stream",
     "text": [
      "\n"
     ]
    }
   ],
   "source": [
    "#buscando as informações\n",
    "preco = {}\n",
    "novoSeculo = 'https://www.gruponovoseculo.com.br/'\n",
    "#barra de progresso\n",
    "with tqdm(total=len(edNovoseculo)) as pbar:\n",
    "    for item in edNovoseculo:\n",
    "        pbar.update(1)\n",
    "        try:\n",
    "            navegador.get(novoSeculo)\n",
    "            sleep(2)\n",
    "            #Clica no campo de busca\n",
    "            navegador.find_element_by_xpath('//div[@class=\"box only-responsive\"]').click()\n",
    "            sleep(1)\n",
    "            #busca através do ISBN\n",
    "            digitaCodigo = navegador.find_element_by_xpath('//*[@id=\"buscar\"]')\n",
    "            digitaCodigo.send_keys(item)\n",
    "            #clicar em pesquisar\n",
    "            navegador.find_element_by_xpath('//button[@class=\"fas fa-search\"]').click()\n",
    "            sleep(1)\n",
    "            #entrar nos detalhes\n",
    "            navegador.find_element_by_xpath('//*[@id=\"app\"]/main/section/div[2]/div[2]/div/article/a[1]').click()\n",
    "            sleep(1)\n",
    "            #pegar preço\n",
    "            valor = navegador.find_element_by_xpath('//div[@class=\"valor\"]')\n",
    "            preco[item] = valor.text\n",
    "\n",
    "        except:\n",
    "            preco[item]      = 'Não Encontrado'"
   ]
  },
  {
   "cell_type": "code",
   "execution_count": 73,
   "metadata": {},
   "outputs": [],
   "source": [
    "#transformando o dicionário em dataframe\n",
    "dfnovoSeculo = dic_dataframe(preco, 'preco')\n",
    "#função pra resetar o indice\n",
    "dfnovoSeculo = resetaIndex(dfnovoSeculo)\n",
    "#renomeando colunas\n",
    "renomeiaColuna(dfnovoSeculo, 'preco')"
   ]
  },
  {
   "cell_type": "markdown",
   "metadata": {},
   "source": [
    "### Academia"
   ]
  },
  {
   "cell_type": "code",
   "execution_count": 75,
   "metadata": {},
   "outputs": [],
   "source": [
    "#filtrando a editora\n",
    "editoraAcademia = filtrarEditora('Academia')"
   ]
  },
  {
   "cell_type": "code",
   "execution_count": 76,
   "metadata": {},
   "outputs": [
    {
     "name": "stdout",
     "output_type": "stream",
     "text": [
      "Total de itens duplicados:  61\n",
      "Total de itens não duplicados:  15\n"
     ]
    }
   ],
   "source": [
    "#verificando os valores duplicados\n",
    "verificarDuplicados(editoraAcademia, 'isbn')"
   ]
  },
  {
   "cell_type": "code",
   "execution_count": 77,
   "metadata": {},
   "outputs": [],
   "source": [
    "#filtrando isbn não duplicados\n",
    "edAcademia = duplicados(editoraAcademia, 'isbn')"
   ]
  },
  {
   "cell_type": "code",
   "execution_count": 78,
   "metadata": {},
   "outputs": [
    {
     "data": {
      "application/vnd.jupyter.widget-view+json": {
       "model_id": "598c8cfb928c45458c546e4bff0bb265",
       "version_major": 2,
       "version_minor": 0
      },
      "text/plain": [
       "HBox(children=(HTML(value=''), FloatProgress(value=0.0, max=15.0), HTML(value='')))"
      ]
     },
     "metadata": {},
     "output_type": "display_data"
    },
    {
     "name": "stdout",
     "output_type": "stream",
     "text": [
      "\n"
     ]
    }
   ],
   "source": [
    "#buscando as informações\n",
    "preco = {}\n",
    "academia = 'https://www.planetadelivros.com.br/editorial/academia/326'\n",
    "#barra de progresso\n",
    "with tqdm(total=len(edAcademia)) as pbar:\n",
    "    for item in edAcademia:\n",
    "        pbar.update(1)\n",
    "        try:\n",
    "            navegador.get(academia)\n",
    "            sleep(1)\n",
    "            #Clica no campo de busca\n",
    "            navegador.find_element_by_xpath('//input[@class=\"megacercador-casella ui-autocomplete-input\"]').click()\n",
    "            #sleep(1)\n",
    "            #busca através do ISBN\n",
    "            digitaCodigo = navegador.find_element_by_xpath('//input[@class=\"megacercador-casella ui-autocomplete-input\"]')\n",
    "            digitaCodigo.send_keys(item)\n",
    "            #clicar em pesquisar\n",
    "            navegador.find_element_by_xpath('//button[@class=\"megacercador-enviar btn\"]').click()\n",
    "            #entrar nos detalhes\n",
    "            navegador.find_element_by_xpath('//*[@id=\"resultat-llibres\"]/ul/li/div[1]/a').click()\n",
    "            sleep(2)\n",
    "            #pegar preço\n",
    "            valor = navegador.find_element_by_xpath('//*[@id=\"soportes-desktop\"]/div/div[3]/div/label/div/div')\n",
    "            preco[item] = valor.text\n",
    "\n",
    "        except:\n",
    "            preco[item]      = 'Não Encontrado'"
   ]
  },
  {
   "cell_type": "code",
   "execution_count": 80,
   "metadata": {},
   "outputs": [],
   "source": [
    "#transformando o dicionário em dataframe\n",
    "dfacademia = dic_dataframe(preco, 'preco')\n",
    "#função pra resetar o indice\n",
    "dfacademia = resetaIndex(dfacademia)\n",
    "#renomeando colunas\n",
    "renomeiaColuna(dfacademia, 'preco')"
   ]
  },
  {
   "cell_type": "markdown",
   "metadata": {},
   "source": [
    "### Astral Cultural"
   ]
  },
  {
   "cell_type": "code",
   "execution_count": 82,
   "metadata": {},
   "outputs": [],
   "source": [
    "#filtrando a editora\n",
    "editoraAstralCultural = filtrarEditora('Astral Cultural')"
   ]
  },
  {
   "cell_type": "code",
   "execution_count": 83,
   "metadata": {},
   "outputs": [
    {
     "name": "stdout",
     "output_type": "stream",
     "text": [
      "Total de itens duplicados:  71\n",
      "Total de itens não duplicados:  17\n"
     ]
    }
   ],
   "source": [
    "#verificando os valores duplicados\n",
    "verificarDuplicados(editoraAstralCultural, 'isbn')"
   ]
  },
  {
   "cell_type": "code",
   "execution_count": 84,
   "metadata": {},
   "outputs": [],
   "source": [
    "#filtrando isbn não duplicados\n",
    "edAstralCultural = duplicados(editoraAstralCultural, 'isbn')"
   ]
  },
  {
   "cell_type": "code",
   "execution_count": 85,
   "metadata": {},
   "outputs": [
    {
     "data": {
      "application/vnd.jupyter.widget-view+json": {
       "model_id": "7c7376fc68574c3b961664df4a73665a",
       "version_major": 2,
       "version_minor": 0
      },
      "text/plain": [
       "HBox(children=(HTML(value=''), FloatProgress(value=0.0, max=17.0), HTML(value='')))"
      ]
     },
     "metadata": {},
     "output_type": "display_data"
    },
    {
     "name": "stdout",
     "output_type": "stream",
     "text": [
      "\n"
     ]
    }
   ],
   "source": [
    "#buscando as informações\n",
    "preco = {}\n",
    "astralCultural = 'https://loja.astralcultural.com.br/'\n",
    "#barra de progresso\n",
    "with tqdm(total=len(edAstralCultural)) as pbar:\n",
    "    for item in edAstralCultural:\n",
    "        pbar.update(1)\n",
    "        try:\n",
    "            navegador.get(astralCultural)\n",
    "            sleep(1)\n",
    "            #Clica no campo de busca\n",
    "            navegador.find_element_by_xpath('//input[@class=\"form-control search-input\"]').click()\n",
    "            #sleep(1)\n",
    "            #busca através do ISBN\n",
    "            digitaCodigo = navegador.find_element_by_xpath('//input[@class=\"form-control search-input\"]')\n",
    "            digitaCodigo.send_keys(item)\n",
    "            #clicar em pesquisar\n",
    "            navegador.find_element_by_xpath('//button[@type=\"submit\"]').click()\n",
    "            #entrar nos detalhes\n",
    "            navegador.find_element_by_xpath('//*[@id=\"variant-list\"]/div/div/div/div[5]/div[2]/div[1]/div/article/figure/a/img').click()\n",
    "            sleep(2)\n",
    "            #pegar preço\n",
    "            valor = navegador.find_element_by_xpath('/html/body/section/div/div/div[2]/div/div[2]/div[2]/div/p/span/del')\n",
    "            preco[item] = valor.text\n",
    "            \n",
    "        except:\n",
    "            preco[item]      = 'Não Encontrado'\n"
   ]
  },
  {
   "cell_type": "code",
   "execution_count": 87,
   "metadata": {},
   "outputs": [],
   "source": [
    "#transformando o dicionário em dataframe\n",
    "dfastralCultural = dic_dataframe(preco, 'preco')\n",
    "#função pra resetar o indice\n",
    "dfastralCultural = resetaIndex(dfastralCultural)\n",
    "#renomeando colunas\n",
    "renomeiaColuna(dfastralCultural, 'preco')"
   ]
  },
  {
   "cell_type": "markdown",
   "metadata": {},
   "source": [
    "### On Line Editora"
   ]
  },
  {
   "cell_type": "code",
   "execution_count": 89,
   "metadata": {},
   "outputs": [],
   "source": [
    "#filtrando a editora\n",
    "editoraOnLine = filtrarEditora('On Line Editora')"
   ]
  },
  {
   "cell_type": "code",
   "execution_count": 90,
   "metadata": {},
   "outputs": [
    {
     "name": "stdout",
     "output_type": "stream",
     "text": [
      "Total de itens duplicados:  0\n",
      "Total de itens não duplicados:  1\n"
     ]
    }
   ],
   "source": [
    "#verificando os valores duplicados\n",
    "verificarDuplicados(editoraOnLine, 'isbn')"
   ]
  },
  {
   "cell_type": "code",
   "execution_count": 91,
   "metadata": {},
   "outputs": [],
   "source": [
    "#filtrando isbn não duplicados\n",
    "edOnLine = duplicados(editoraOnLine, 'isbn')"
   ]
  },
  {
   "cell_type": "code",
   "execution_count": 92,
   "metadata": {},
   "outputs": [
    {
     "data": {
      "application/vnd.jupyter.widget-view+json": {
       "model_id": "7f7f5f535cc44805adab1808c787845a",
       "version_major": 2,
       "version_minor": 0
      },
      "text/plain": [
       "HBox(children=(HTML(value=''), FloatProgress(value=0.0, max=1.0), HTML(value='')))"
      ]
     },
     "metadata": {},
     "output_type": "display_data"
    },
    {
     "name": "stdout",
     "output_type": "stream",
     "text": [
      "\n"
     ]
    }
   ],
   "source": [
    "#buscando as informações\n",
    "preco = {}\n",
    "onLine = 'https://www.editoraonline.com.br/'\n",
    "#barra de progresso\n",
    "with tqdm(total=len(edOnLine)) as pbar:\n",
    "    for item in edOnLine:\n",
    "        pbar.update(1)\n",
    "        try:\n",
    "            navegador.get(onLine)\n",
    "            sleep(1)\n",
    "            #Clica no campo de busca\n",
    "            navegador.find_element_by_xpath('//input[@class=\"form-control input-lg\"]').click()\n",
    "            #sleep(1)\n",
    "            #busca através do ISBN\n",
    "            digitaCodigo = navegador.find_element_by_xpath('//input[@class=\"form-control input-lg\"]')\n",
    "            digitaCodigo.send_keys(item)\n",
    "            #clicar em pesquisar\n",
    "            navegador.find_element_by_xpath('//span[@class=\"input-group-btn\"]').click()\n",
    "            #entrar nos detalhes\n",
    "            navegador.find_element_by_xpath('//*[@id=\"content\"]/div[3]/div/div/div[1]/a/img').click()\n",
    "            sleep(2)\n",
    "            #pegar preço\n",
    "            valor = navegador.find_element_by_xpath('//h2[@class=\"product-price\"]')\n",
    "            preco[item] = valor.text\n",
    "            \n",
    "        except:\n",
    "            preco[item]      = 'Não Encontrado'\n"
   ]
  },
  {
   "cell_type": "code",
   "execution_count": 93,
   "metadata": {},
   "outputs": [],
   "source": [
    "#transformando o dicionário em dataframe\n",
    "dfonLine = dic_dataframe(preco, 'preco')\n",
    "#função pra resetar o indice\n",
    "dfonLine = resetaIndex(dfonLine)\n",
    "#renomeando colunas\n",
    "renomeiaColuna(dfonLine, 'preco')"
   ]
  },
  {
   "cell_type": "markdown",
   "metadata": {},
   "source": [
    "### Figurati"
   ]
  },
  {
   "cell_type": "code",
   "execution_count": 95,
   "metadata": {},
   "outputs": [],
   "source": [
    "#filtrando a editora\n",
    "editoraFigurati = filtrarEditora('Figurati')"
   ]
  },
  {
   "cell_type": "code",
   "execution_count": 96,
   "metadata": {},
   "outputs": [
    {
     "name": "stdout",
     "output_type": "stream",
     "text": [
      "Total de itens duplicados:  0\n",
      "Total de itens não duplicados:  3\n"
     ]
    }
   ],
   "source": [
    "#verificando os valores duplicados\n",
    "verificarDuplicados(editoraFigurati, 'isbn')"
   ]
  },
  {
   "cell_type": "code",
   "execution_count": 97,
   "metadata": {},
   "outputs": [],
   "source": [
    "#filtrando isbn não duplicados\n",
    "edFigurati = duplicados(editoraFigurati, 'isbn')"
   ]
  },
  {
   "cell_type": "code",
   "execution_count": 98,
   "metadata": {},
   "outputs": [
    {
     "data": {
      "application/vnd.jupyter.widget-view+json": {
       "model_id": "c44700697d354a648b879cc26cf404e6",
       "version_major": 2,
       "version_minor": 0
      },
      "text/plain": [
       "HBox(children=(HTML(value=''), FloatProgress(value=0.0, max=3.0), HTML(value='')))"
      ]
     },
     "metadata": {},
     "output_type": "display_data"
    },
    {
     "name": "stdout",
     "output_type": "stream",
     "text": [
      "\n"
     ]
    }
   ],
   "source": [
    "#buscando as informações\n",
    "preco = {}\n",
    "figurati = 'https://www.gruponovoseculo.com.br/'\n",
    "#barra de progresso\n",
    "with tqdm(total=len(edFigurati)) as pbar:\n",
    "    for item in edFigurati:\n",
    "        pbar.update(1)\n",
    "        try:\n",
    "            navegador.get(figurati)\n",
    "            sleep(2)\n",
    "            #Clica no campo de busca\n",
    "            navegador.find_element_by_xpath('//div[@class=\"box only-responsive\"]').click()\n",
    "            sleep(1)\n",
    "            #busca através do ISBN\n",
    "            digitaCodigo = navegador.find_element_by_xpath('//input[@class=\"form-control\"]')\n",
    "            digitaCodigo.send_keys(item)\n",
    "            #clicar em pesquisar\n",
    "            navegador.find_element_by_xpath('//button[@class=\"fas fa-search\"]').click()\n",
    "            sleep(2)\n",
    "            #entrar nos detalhes\n",
    "            navegador.find_element_by_xpath('//*[@id=\"app\"]/main/section/div[2]/div[2]/div/article/a[1]').click()\n",
    "            sleep(1)\n",
    "            #pegar preço\n",
    "            valor = navegador.find_element_by_xpath('//div[@class=\"valor\"]')\n",
    "            preco[item] = valor.text\n",
    "\n",
    "        except:\n",
    "            preco[item]      = 'Não Encontrado'\n"
   ]
  },
  {
   "cell_type": "code",
   "execution_count": 99,
   "metadata": {},
   "outputs": [],
   "source": [
    "#transformando o dicionário em dataframe\n",
    "dffigurati = dic_dataframe(preco, 'preco')\n",
    "#função pra resetar o indice\n",
    "dffigurati = resetaIndex(dffigurati)\n",
    "#renomeando colunas\n",
    "renomeiaColuna(dffigurati, 'preco')"
   ]
  },
  {
   "cell_type": "markdown",
   "metadata": {},
   "source": [
    "### Verus"
   ]
  },
  {
   "cell_type": "code",
   "execution_count": 101,
   "metadata": {},
   "outputs": [],
   "source": [
    "#filtrando a editora\n",
    "editoraVerus = filtrarEditora('Verus')"
   ]
  },
  {
   "cell_type": "code",
   "execution_count": 102,
   "metadata": {},
   "outputs": [
    {
     "name": "stdout",
     "output_type": "stream",
     "text": [
      "Total de itens duplicados:  21\n",
      "Total de itens não duplicados:  13\n"
     ]
    }
   ],
   "source": [
    "#verificando os valores duplicados\n",
    "verificarDuplicados(editoraVerus, 'isbn')"
   ]
  },
  {
   "cell_type": "code",
   "execution_count": 103,
   "metadata": {},
   "outputs": [],
   "source": [
    "#filtrando isbn não duplicados\n",
    "edVerus = duplicados(editoraVerus, 'isbn')"
   ]
  },
  {
   "cell_type": "code",
   "execution_count": 120,
   "metadata": {},
   "outputs": [
    {
     "data": {
      "application/vnd.jupyter.widget-view+json": {
       "model_id": "ad85dee9d6364f55bc18c3c38f505de7",
       "version_major": 2,
       "version_minor": 0
      },
      "text/plain": [
       "HBox(children=(HTML(value=''), FloatProgress(value=0.0, max=13.0), HTML(value='')))"
      ]
     },
     "metadata": {},
     "output_type": "display_data"
    },
    {
     "name": "stdout",
     "output_type": "stream",
     "text": [
      "\n"
     ]
    }
   ],
   "source": [
    "#buscando as informações\n",
    "preco = {}\n",
    "verus = 'https://www.record.com.br/editoras/verus/'\n",
    "#barra de progresso\n",
    "with tqdm(total=len(edVerus)) as pbar:\n",
    "    for item in edVerus:\n",
    "        pbar.update(1)\n",
    "        try:\n",
    "            navegador.get(verus)\n",
    "            sleep(3)\n",
    "            #Clica no campo de busca\n",
    "            navegador.find_element_by_xpath('//input[@id=\"dgwt-wcas-search-input-2386\"]').click()\n",
    "            sleep(1)\n",
    "            #busca através do ISBN\n",
    "            digitaCodigo = navegador.find_element_by_xpath('//input[@id=\"dgwt-wcas-search-input-2386\"]')\n",
    "            digitaCodigo.send_keys(item)\n",
    "            #pesquisar, necessário o enter\n",
    "            navegador.find_element_by_xpath('//input[@id=\"dgwt-wcas-search-input-2386\"]').send_keys(Keys.ENTER)\n",
    "            sleep(2)\n",
    "            #entrar nos detalhes\n",
    "            navegador.find_element_by_xpath('//span[@class=\"product_thumbnail_background\"]').click()\n",
    "            sleep(1)\n",
    "            #pegar preço\n",
    "            valor = navegador.find_element_by_xpath('//span[@class=\"woocommerce-Price-amount amount\"]')\n",
    "            preco[item] = valor.text\n",
    "\n",
    "        except:\n",
    "            preco[item]      = 'Não Encontrado'\n"
   ]
  },
  {
   "cell_type": "code",
   "execution_count": 123,
   "metadata": {},
   "outputs": [],
   "source": [
    "#transformando o dicionário em dataframe\n",
    "dfverus = dic_dataframe(preco, 'preco')\n",
    "#função pra resetar o indice\n",
    "dfverus = resetaIndex(dfverus)\n",
    "#renomeando colunas\n",
    "renomeiaColuna(dfverus, 'preco')"
   ]
  },
  {
   "cell_type": "markdown",
   "metadata": {},
   "source": [
    "### Cultrix"
   ]
  },
  {
   "cell_type": "code",
   "execution_count": 125,
   "metadata": {},
   "outputs": [],
   "source": [
    "#filtrando a editora\n",
    "editoraCultrix = filtrarEditora('Cultrix')"
   ]
  },
  {
   "cell_type": "code",
   "execution_count": 126,
   "metadata": {},
   "outputs": [
    {
     "name": "stdout",
     "output_type": "stream",
     "text": [
      "Total de itens duplicados:  1\n",
      "Total de itens não duplicados:  3\n"
     ]
    }
   ],
   "source": [
    "#verificando os valores duplicados\n",
    "verificarDuplicados(editoraCultrix, 'isbn')"
   ]
  },
  {
   "cell_type": "code",
   "execution_count": 127,
   "metadata": {},
   "outputs": [],
   "source": [
    "#filtrando isbn não duplicados\n",
    "edCultrix = duplicados(editoraCultrix, 'isbn')"
   ]
  },
  {
   "cell_type": "code",
   "execution_count": 211,
   "metadata": {},
   "outputs": [
    {
     "data": {
      "application/vnd.jupyter.widget-view+json": {
       "model_id": "c5a167ac336c46639a663cc73715f752",
       "version_major": 2,
       "version_minor": 0
      },
      "text/plain": [
       "HBox(children=(HTML(value=''), FloatProgress(value=0.0, max=3.0), HTML(value='')))"
      ]
     },
     "metadata": {},
     "output_type": "display_data"
    },
    {
     "name": "stdout",
     "output_type": "stream",
     "text": [
      "\n"
     ]
    }
   ],
   "source": [
    "#buscando as informações\n",
    "preco = {}\n",
    "cultrix = 'https://www.grupopensamento.com.br/vitrine/cultrix'\n",
    "#barra de progresso\n",
    "with tqdm(total=len(edCultrix)) as pbar:\n",
    "    for item in edCultrix:\n",
    "        pbar.update(1)\n",
    "        try:\n",
    "            navegador.get(cultrix)\n",
    "            sleep(3)\n",
    "            #Clica no campo de busca\n",
    "            navegador.find_element_by_xpath('//input[@name=\"data[Busca][keyword]\"]').click()\n",
    "            #sleep(1)\n",
    "            #busca através do ISBN\n",
    "            digitaCodigo = navegador.find_element_by_xpath('//input[@name=\"data[Busca][keyword]\"]')\n",
    "            digitaCodigo.send_keys(item)\n",
    "            #pesquisar\n",
    "            navegador.find_element_by_xpath('//button[@value=\"Buscar\"]').click()\n",
    "            sleep(2)\n",
    "            #pegar preço\n",
    "            valor = navegador.find_element_by_xpath('//*[@id=\"content\"]/nav[2]/ul/li/p')\n",
    "            preco[item] = valor.text\n",
    "            \n",
    "        except:\n",
    "            preco[item]      = '    Não Encontrado'\n"
   ]
  },
  {
   "cell_type": "code",
   "execution_count": 213,
   "metadata": {},
   "outputs": [],
   "source": [
    "#transformando o dicionário em dataframe\n",
    "dfcultrix = dic_dataframe(preco, 'preco')\n",
    "#função pra resetar o indice\n",
    "dfcultrix = resetaIndex(dfcultrix)\n",
    "#renomeando colunas\n",
    "renomeiaColuna(dfcultrix, 'preco')"
   ]
  },
  {
   "cell_type": "code",
   "execution_count": 215,
   "metadata": {},
   "outputs": [],
   "source": [
    "dfcultrix['preco'] = dfcultrix['preco'].str[4:]"
   ]
  },
  {
   "cell_type": "markdown",
   "metadata": {},
   "source": [
    "### Gutenberg"
   ]
  },
  {
   "cell_type": "code",
   "execution_count": 217,
   "metadata": {},
   "outputs": [],
   "source": [
    "#filtrando a editora\n",
    "editoraGutenberg = filtrarEditora('Gutenberg')"
   ]
  },
  {
   "cell_type": "code",
   "execution_count": 218,
   "metadata": {},
   "outputs": [
    {
     "name": "stdout",
     "output_type": "stream",
     "text": [
      "Total de itens duplicados:  32\n",
      "Total de itens não duplicados:  7\n"
     ]
    }
   ],
   "source": [
    "#verificando os valores duplicados\n",
    "verificarDuplicados(editoraGutenberg, 'isbn')"
   ]
  },
  {
   "cell_type": "code",
   "execution_count": 219,
   "metadata": {},
   "outputs": [],
   "source": [
    "#filtrando isbn não duplicados\n",
    "edGutenberg = duplicados(editoraGutenberg, 'isbn')"
   ]
  },
  {
   "cell_type": "code",
   "execution_count": 223,
   "metadata": {},
   "outputs": [
    {
     "data": {
      "application/vnd.jupyter.widget-view+json": {
       "model_id": "9b92676cfb0a46338b9571d951452797",
       "version_major": 2,
       "version_minor": 0
      },
      "text/plain": [
       "HBox(children=(HTML(value=''), FloatProgress(value=0.0, max=7.0), HTML(value='')))"
      ]
     },
     "metadata": {},
     "output_type": "display_data"
    },
    {
     "name": "stdout",
     "output_type": "stream",
     "text": [
      "\n"
     ]
    }
   ],
   "source": [
    "#buscando as informações\n",
    "preco = {}\n",
    "gutenberg = 'https://grupoautentica.com.br/gutenberg'\n",
    "#barra de progresso\n",
    "with tqdm(total=len(edGutenberg)) as pbar:\n",
    "    for item in edGutenberg:\n",
    "        pbar.update(1)\n",
    "        try:\n",
    "            navegador.get(gutenberg)\n",
    "            sleep(2)\n",
    "            #Clica no campo de busca\n",
    "            navegador.find_element_by_xpath('//*[@id=\"search_lightbox_open\"]').click()\n",
    "            sleep(1)\n",
    "            #busca através do ISBN\n",
    "            digitaCodigo = navegador.find_element_by_xpath('//input[@class=\"input input--big\"]')\n",
    "            digitaCodigo.send_keys(item)\n",
    "            #pesquisar\n",
    "            navegador.find_element_by_xpath('//input[@class=\"img--icon\"]').click()\n",
    "            sleep(3)\n",
    "            #entrar nos detalhes\n",
    "            navegador.find_element_by_xpath('//*[@id=\"https://grupoautentica.com.br/\"]/div[2]/div/div[2]/div/h2/a').click()\n",
    "            sleep(1)\n",
    "            #pegar preço\n",
    "            valor = navegador.find_element_by_xpath('//div[@class=\"grid__col grid__col--half\"]')\n",
    "            preco[item] = valor.text\n",
    "\n",
    "        except:\n",
    "            preco[item]      = 'Não Encontrado'\n",
    "            "
   ]
  },
  {
   "cell_type": "code",
   "execution_count": 225,
   "metadata": {},
   "outputs": [],
   "source": [
    "#transformando o dicionário em dataframe\n",
    "dfgutenberg = dic_dataframe(preco, 'preco')\n",
    "#função pra resetar o indice\n",
    "dfgutenberg = resetaIndex(dfgutenberg)\n",
    "#renomeando colunas\n",
    "renomeiaColuna(dfgutenberg, 'preco')"
   ]
  },
  {
   "cell_type": "markdown",
   "metadata": {},
   "source": [
    "### Editora Vida"
   ]
  },
  {
   "cell_type": "code",
   "execution_count": 227,
   "metadata": {},
   "outputs": [],
   "source": [
    "#filtrando a editora\n",
    "editoraVida = filtrarEditora('Editora Vida')"
   ]
  },
  {
   "cell_type": "code",
   "execution_count": 228,
   "metadata": {},
   "outputs": [
    {
     "name": "stdout",
     "output_type": "stream",
     "text": [
      "Total de itens duplicados:  2\n",
      "Total de itens não duplicados:  4\n"
     ]
    }
   ],
   "source": [
    "#verificando os valores duplicados\n",
    "verificarDuplicados(editoraVida, 'isbn')"
   ]
  },
  {
   "cell_type": "code",
   "execution_count": 229,
   "metadata": {},
   "outputs": [],
   "source": [
    "#filtrando isbn não duplicados\n",
    "edVida = duplicados(editoraVida, 'isbn')"
   ]
  },
  {
   "cell_type": "code",
   "execution_count": 232,
   "metadata": {},
   "outputs": [
    {
     "data": {
      "application/vnd.jupyter.widget-view+json": {
       "model_id": "7ff16c0449e14cd394c44ed13489ffd4",
       "version_major": 2,
       "version_minor": 0
      },
      "text/plain": [
       "HBox(children=(HTML(value=''), FloatProgress(value=0.0, max=4.0), HTML(value='')))"
      ]
     },
     "metadata": {},
     "output_type": "display_data"
    },
    {
     "name": "stdout",
     "output_type": "stream",
     "text": [
      "\n"
     ]
    }
   ],
   "source": [
    "#buscando as informações\n",
    "preco = {}\n",
    "vida = 'https://editoravida.com.br/'\n",
    "#barra de progresso\n",
    "with tqdm(total=len(edVida)) as pbar:\n",
    "    for item in edVida:\n",
    "        pbar.update(1)\n",
    "        try:\n",
    "            navegador.get(vida)\n",
    "            sleep(2)\n",
    "            #Clica no campo de busca\n",
    "            navegador.find_element_by_xpath('//div[@class=\"header-cart search-top\"]').click()\n",
    "            sleep(1)\n",
    "            #busca através do ISBN\n",
    "            digitaCodigo = navegador.find_element_by_xpath('//input[@id=\"dgwt-wcas-search-input-1\"]')\n",
    "            digitaCodigo.send_keys(item)\n",
    "            #pesquisar\n",
    "            navegador.find_element_by_xpath('//button[@class=\"dgwt-wcas-search-submit\"]').click()\n",
    "            sleep(3)\n",
    "            #pegar preço\n",
    "            valor = navegador.find_element_by_xpath('//span[@class=\"woocommerce-Price-amount amount\"]')\n",
    "            preco[item] = valor.text\n",
    "\n",
    "        except:\n",
    "            preco[item]      = 'Não Encontrado'\n"
   ]
  },
  {
   "cell_type": "code",
   "execution_count": 234,
   "metadata": {},
   "outputs": [],
   "source": [
    "#transformando o dicionário em dataframe\n",
    "dfvida = dic_dataframe(preco, 'preco')\n",
    "#função pra resetar o indice\n",
    "dfvida = resetaIndex(dfvida)\n",
    "#renomeando colunas\n",
    "renomeiaColuna(dfvida, 'preco')"
   ]
  },
  {
   "cell_type": "markdown",
   "metadata": {},
   "source": [
    "### Cia das Letrinhas"
   ]
  },
  {
   "cell_type": "code",
   "execution_count": 236,
   "metadata": {},
   "outputs": [],
   "source": [
    "#filtrando a editora\n",
    "editoraCiaLetrinhas = filtrarEditora('Cia das Letrinhas')"
   ]
  },
  {
   "cell_type": "code",
   "execution_count": 237,
   "metadata": {},
   "outputs": [
    {
     "name": "stdout",
     "output_type": "stream",
     "text": [
      "Total de itens duplicados:  10\n",
      "Total de itens não duplicados:  1\n"
     ]
    }
   ],
   "source": [
    "#verificando os valores duplicados\n",
    "verificarDuplicados(editoraCiaLetrinhas, 'isbn')"
   ]
  },
  {
   "cell_type": "code",
   "execution_count": 238,
   "metadata": {},
   "outputs": [],
   "source": [
    "#filtrando isbn não duplicados\n",
    "edCiaLetrinhas = duplicados(editoraCiaLetrinhas, 'isbn')"
   ]
  },
  {
   "cell_type": "code",
   "execution_count": 239,
   "metadata": {},
   "outputs": [
    {
     "data": {
      "application/vnd.jupyter.widget-view+json": {
       "model_id": "4e0d48fd46604c6d9595e207bb4620ac",
       "version_major": 2,
       "version_minor": 0
      },
      "text/plain": [
       "HBox(children=(HTML(value=''), FloatProgress(value=0.0, max=1.0), HTML(value='')))"
      ]
     },
     "metadata": {},
     "output_type": "display_data"
    },
    {
     "name": "stdout",
     "output_type": "stream",
     "text": [
      "\n"
     ]
    }
   ],
   "source": [
    "#buscando as informações\n",
    "preco = {}\n",
    "ciaLetrinhas = 'https://www.companhiadasletras.com.br/'\n",
    "#barra de progresso\n",
    "with tqdm(total=len(edCiaLetrinhas)) as pbar:\n",
    "    for item in edCiaLetrinhas:\n",
    "        pbar.update(1)\n",
    "        try:\n",
    "            navegador.get(ciaLetrinhas)\n",
    "            sleep(2)\n",
    "            #Clica no campo de busca\n",
    "            navegador.find_element_by_xpath('/html/body/div[3]/header/a[2]').click()\n",
    "            sleep(1)\n",
    "            #busca através do ISBN\n",
    "            digitaCodigo = navegador.find_element_by_xpath('//input[@id=\"busca\"]')\n",
    "            digitaCodigo.send_keys(item)\n",
    "            #pesquisar\n",
    "            navegador.find_element_by_xpath('//*[@id=\"bbusca\"]/form/table/tbody/tr/td[3]/input').click()\n",
    "            sleep(3)\n",
    "            #pegar preço\n",
    "            valor = navegador.find_element_by_xpath('//div[@class=\"preco\"]')\n",
    "            preco[item] = valor.text\n",
    "\n",
    "        except:\n",
    "            preco[item]      = 'Não Encontrado'\n"
   ]
  },
  {
   "cell_type": "code",
   "execution_count": 241,
   "metadata": {},
   "outputs": [],
   "source": [
    "#transformando o dicionário em dataframe\n",
    "dfciaLetrinhas = dic_dataframe(preco, 'preco')\n",
    "#função pra resetar o indice\n",
    "dfciaLetrinhas = resetaIndex(dfciaLetrinhas)\n",
    "#renomeando colunas\n",
    "renomeiaColuna(dfciaLetrinhas, 'preco')"
   ]
  },
  {
   "cell_type": "markdown",
   "metadata": {},
   "source": [
    "### Thomas Nelson Brasil"
   ]
  },
  {
   "cell_type": "code",
   "execution_count": 243,
   "metadata": {},
   "outputs": [],
   "source": [
    "#filtrando a editora\n",
    "editoraThomasNelson = filtrarEditora('Thomas Nelson Brasil')"
   ]
  },
  {
   "cell_type": "code",
   "execution_count": 244,
   "metadata": {},
   "outputs": [
    {
     "name": "stdout",
     "output_type": "stream",
     "text": [
      "Total de itens duplicados:  93\n",
      "Total de itens não duplicados:  5\n"
     ]
    }
   ],
   "source": [
    "#verificando os valores duplicados\n",
    "verificarDuplicados(editoraThomasNelson, 'isbn')"
   ]
  },
  {
   "cell_type": "code",
   "execution_count": 245,
   "metadata": {},
   "outputs": [],
   "source": [
    "#filtrando isbn não duplicados\n",
    "edThomasNelson = duplicados(editoraThomasNelson, 'isbn')"
   ]
  },
  {
   "cell_type": "code",
   "execution_count": 246,
   "metadata": {},
   "outputs": [
    {
     "data": {
      "application/vnd.jupyter.widget-view+json": {
       "model_id": "85ad895bb9964fa3baedd61528527f51",
       "version_major": 2,
       "version_minor": 0
      },
      "text/plain": [
       "HBox(children=(HTML(value=''), FloatProgress(value=0.0, max=5.0), HTML(value='')))"
      ]
     },
     "metadata": {},
     "output_type": "display_data"
    },
    {
     "name": "stdout",
     "output_type": "stream",
     "text": [
      "\n"
     ]
    }
   ],
   "source": [
    "#buscando as informações\n",
    "preco = {}\n",
    "thomasNelson = 'https://thomasnelson.com.br/'\n",
    "#barra de progresso\n",
    "with tqdm(total=len(edThomasNelson)) as pbar:\n",
    "    for item in edThomasNelson:\n",
    "        pbar.update(1)\n",
    "        try:\n",
    "            navegador.get(thomasNelson)\n",
    "            sleep(2)\n",
    "            #Clica no campo de busca\n",
    "            navegador.find_element_by_xpath('//input[@id=\"product-search-keyword\"]').click()\n",
    "            sleep(1)\n",
    "            #busca através do ISBN\n",
    "            digitaCodigo = navegador.find_element_by_xpath('//input[@id=\"product-search-keyword\"]')\n",
    "            digitaCodigo.send_keys(item)\n",
    "            #pesquisar\n",
    "            navegador.find_element_by_xpath('/html/body/div[1]/div/div/div[1]/form/div/button').click()\n",
    "            #detalhes\n",
    "            navegador.find_element_by_xpath('//*[@id=\"post-15065\"]/div/div[2]/div[1]/h2/a').click()\n",
    "            sleep(3)\n",
    "            #leia mais\n",
    "            navegador.find_element_by_xpath('//a[@id=\"MoreLink\"]').click()\n",
    "            #pegar preço\n",
    "            valor = navegador.find_element_by_xpath('//*[@id=\"tab-additional_information\"]/div/table/tbody/tr[9]/td')\n",
    "            preco[item] = valor.text\n",
    "\n",
    "        except:\n",
    "            preco[item]      = 'Não Encontrado'\n"
   ]
  },
  {
   "cell_type": "code",
   "execution_count": 248,
   "metadata": {},
   "outputs": [],
   "source": [
    "#transformando o dicionário em dataframe\n",
    "dfthomasNelson = dic_dataframe(preco, 'preco')\n",
    "#função pra resetar o indice\n",
    "dfthomasNelson = resetaIndex(dfthomasNelson)\n",
    "#renomeando colunas\n",
    "renomeiaColuna(dfthomasNelson, 'preco')"
   ]
  },
  {
   "cell_type": "markdown",
   "metadata": {},
   "source": [
    "### Editoras:    \n",
    "L&PM POCKET  \n",
    "LeYa  \n",
    "Ática  \n",
    "Pão Diário  \n",
    "WMF Martins Fontes   \n",
    "Martins Fontes  \n",
    "Quatro Ventos  \n",
    "Agir  \n",
    "Elsevier  \n",
    "Escrituras  \n",
    "Coquetel"
   ]
  },
  {
   "cell_type": "code",
   "execution_count": 250,
   "metadata": {},
   "outputs": [],
   "source": [
    "#filtrar apenas as editoras com as quais eu irei extrair do site martins fontes\n",
    "siteMrtinsFontes = editoras[editoras['editora'].isin(['L&PM POCKET','LeYa','Ática','Pão Diário','WMF Martins Fontes',\n",
    "                                                    'Martins Fontes','Quatro Ventos','Agir','Elsevier',\n",
    "                                                    'Escrituras','Coquetel'])]"
   ]
  },
  {
   "cell_type": "code",
   "execution_count": 251,
   "metadata": {},
   "outputs": [
    {
     "name": "stdout",
     "output_type": "stream",
     "text": [
      "Total de itens duplicados:  548\n",
      "Total de itens não duplicados:  42\n"
     ]
    }
   ],
   "source": [
    "#verificando os valores duplicados\n",
    "verificarDuplicados(siteMrtinsFontes, 'isbn')"
   ]
  },
  {
   "cell_type": "code",
   "execution_count": 252,
   "metadata": {},
   "outputs": [],
   "source": [
    "#filtrando isbn não duplicados\n",
    "siteMrtinsFontes = duplicados(siteMrtinsFontes, 'isbn')"
   ]
  },
  {
   "cell_type": "code",
   "execution_count": 253,
   "metadata": {},
   "outputs": [],
   "source": [
    "#shadowRoot\n",
    "#páginas ocultas dentro do site, acessar o elemento é necessário utilizar javascript\n",
    "def shadowRootPass(isbnItem):\n",
    "    navegador.execute_script(\"return document.querySelector('impulse-autocomplete').shadowRoot.querySelector('input')\").send_keys(isbnItem)\n",
    "    navegador.execute_script(\"return document.querySelector('impulse-autocomplete').shadowRoot.querySelector('input')\").send_keys(Keys.ENTER)\n",
    "    sleep(5)\n",
    "    navegador.execute_script('''return document.querySelector('impulse-search').shadowRoot.querySelector('[itemprop=\"image\"] a')''').send_keys(Keys.ENTER)\n",
    "    sleep(5)"
   ]
  },
  {
   "cell_type": "code",
   "execution_count": 274,
   "metadata": {},
   "outputs": [
    {
     "data": {
      "application/vnd.jupyter.widget-view+json": {
       "model_id": "522a39dd409d4480b6c6edde062c55ac",
       "version_major": 2,
       "version_minor": 0
      },
      "text/plain": [
       "HBox(children=(HTML(value=''), FloatProgress(value=0.0, max=42.0), HTML(value='')))"
      ]
     },
     "metadata": {},
     "output_type": "display_data"
    },
    {
     "name": "stdout",
     "output_type": "stream",
     "text": [
      "\n"
     ]
    }
   ],
   "source": [
    "preco = {}\n",
    "\n",
    "siteMFontes = 'https://www.martinsfontespaulista.com.br/'\n",
    "navegador.get(siteMFontes)\n",
    "with tqdm(total=len(siteMrtinsFontes)) as pbar:\n",
    "    for item in siteMrtinsFontes:\n",
    "        pbar.update(1)\n",
    "        try:\n",
    "            #chama a função do shadow root;\n",
    "            shadowRootPass(item)\n",
    "            #há várias opçoes de preço, necessário para pegar o correto.\n",
    "            if navegador.find_element_by_xpath('//h3[@class=\"notifymetitle notifyme-title\"]').text == 'PRODUTO ESGOTADO NA EDITORA':\n",
    "                preco[item] = 'NaN'\n",
    "            elif len(navegador.find_elements_by_xpath('//strong[@class=\"skuListPrice\"]')) > 0:\n",
    "                preco[item] = navegador.find_element_by_xpath('//strong[@class=\"skuListPrice\"]').text\n",
    "            else:\n",
    "                container = navegador.find_element_by_xpath('//*[@id=\"main\"]/section[2]/div/div/div[2]/div[4]/div[1]/div[1]/div/p[1]/em[1]')\n",
    "                navegador.execute_script(\"arguments[0].style.display = 'block';\", container)\n",
    "                preco[item] = navegador.find_element_by_xpath('//strong[@class=\"skuBestPrice\"]').text\n",
    "                     \n",
    "        except:\n",
    "            preco[item]  = 'Não Encontrado'\n",
    "            "
   ]
  },
  {
   "cell_type": "code",
   "execution_count": 276,
   "metadata": {},
   "outputs": [],
   "source": [
    "#transformando o dicionário em dataframe\n",
    "dfsiteMFontes = dic_dataframe(preco, 'preco')\n",
    "#função pra resetar o indice\n",
    "dfsiteMFontes = resetaIndex(dfsiteMFontes)\n",
    "#renomeando colunas\n",
    "renomeiaColuna(dfsiteMFontes, 'preco')"
   ]
  },
  {
   "cell_type": "code",
   "execution_count": 277,
   "metadata": {},
   "outputs": [],
   "source": [
    "#Unindo os dataframes em apenas um:\n",
    "dfEditoras = pd.concat([dfGente, dftodavia, dfnovoSeculo, dfacademia, dfastralCultural, dfonLine, dffigurati, dfverus,\n",
    "                        dfcultrix, dfgutenberg, dfvida, dfciaLetrinhas, dfthomasNelson, dfsiteMFontes])"
   ]
  },
  {
   "cell_type": "markdown",
   "metadata": {},
   "source": [
    "### Adicionando o tipo de capa/acabamento"
   ]
  },
  {
   "cell_type": "code",
   "execution_count": 279,
   "metadata": {},
   "outputs": [
    {
     "data": {
      "application/vnd.jupyter.widget-view+json": {
       "model_id": "980e9304cc5a4573ae5b2f6e88d6d2e8",
       "version_major": 2,
       "version_minor": 0
      },
      "text/plain": [
       "HBox(children=(HTML(value=''), FloatProgress(value=0.0, max=223.0), HTML(value='')))"
      ]
     },
     "metadata": {},
     "output_type": "display_data"
    },
    {
     "name": "stdout",
     "output_type": "stream",
     "text": [
      "\n"
     ]
    }
   ],
   "source": [
    "acabamento = {}\n",
    "\n",
    "siteMFontes = 'https://www.martinsfontespaulista.com.br/'\n",
    "navegador.get(siteMFontes)\n",
    "with tqdm(total=len(dfEditoras['isbn'])) as pbar:\n",
    "    for item in dfEditoras['isbn']:\n",
    "        pbar.update(1)\n",
    "        try:\n",
    "            shadowRootPass(item)\n",
    "            #dá foco na ficha técnica para poder pega-lo:\n",
    "            element = navegador.find_element_by_xpath('//div[@class=\"product-details-tab\"]')\n",
    "            navegador.execute_script(\"arguments[0].scrollIntoView(true);\", element)\n",
    "            sleep(5)\n",
    "            #pega o texto\n",
    "            acabamento[item] = navegador.find_element_by_xpath('//td[@class=\"value-field Acabamento\"]').text\n",
    "        except:\n",
    "            acabamento[item] = 'NaN'"
   ]
  },
  {
   "cell_type": "code",
   "execution_count": 281,
   "metadata": {},
   "outputs": [],
   "source": [
    "#transformando o dicionário em dataframe\n",
    "dfAcabamento = dic_dataframe(acabamento, 'acabamento')\n",
    "#função pra resetar o indice\n",
    "dfAcabamento = resetaIndex(dfAcabamento)\n",
    "#renomeando colunas\n",
    "renomeiaColuna(dfAcabamento, 'acabamento')"
   ]
  },
  {
   "cell_type": "markdown",
   "metadata": {},
   "source": [
    "### Adicionando informações incompletas"
   ]
  },
  {
   "cell_type": "code",
   "execution_count": 264,
   "metadata": {},
   "outputs": [],
   "source": [
    "#filtrando Não encontrado nos preços\n",
    "adPreco = dfEditoras[dfEditoras['preco'].isin(['Não Encontrado'])]"
   ]
  },
  {
   "cell_type": "code",
   "execution_count": 285,
   "metadata": {},
   "outputs": [
    {
     "data": {
      "application/vnd.jupyter.widget-view+json": {
       "model_id": "acc8245d93724313896c14a03235391b",
       "version_major": 2,
       "version_minor": 0
      },
      "text/plain": [
       "HBox(children=(HTML(value=''), FloatProgress(value=0.0, max=45.0), HTML(value='')))"
      ]
     },
     "metadata": {},
     "output_type": "display_data"
    },
    {
     "name": "stdout",
     "output_type": "stream",
     "text": [
      "\n"
     ]
    }
   ],
   "source": [
    "preco = {}\n",
    "\n",
    "siteMFontes = 'https://www.martinsfontespaulista.com.br/'\n",
    "navegador.get(siteMFontes)\n",
    "with tqdm(total=len(adPreco['isbn'])) as pbar:\n",
    "    for item in adPreco['isbn']:\n",
    "        pbar.update(1)\n",
    "        try:\n",
    "            #chama a função do shadow root;\n",
    "            shadowRootPass(item)\n",
    "            \n",
    "            if navegador.find_element_by_xpath('//h3[@class=\"notifymetitle notifyme-title\"]').text == 'PRODUTO ESGOTADO NA EDITORA':\n",
    "                preco[item] = 'NaN'\n",
    "            elif len(navegador.find_elements_by_xpath('//strong[@class=\"skuListPrice\"]')) > 0:\n",
    "                preco[item] = navegador.find_element_by_xpath('//strong[@class=\"skuListPrice\"]').text\n",
    "            else:\n",
    "                container = navegador.find_element_by_xpath('//*[@id=\"main\"]/section[2]/div/div/div[2]/div[4]/div[1]/div[1]/div/p[1]/em[1]')\n",
    "                navegador.execute_script(\"arguments[0].style.display = 'block';\", container)\n",
    "                preco[item] = navegador.find_element_by_xpath('//strong[@class=\"skuBestPrice\"]').text\n",
    "             \n",
    "            #já conferi todos que caíram no except e não possui cadastro na livraria\n",
    "        except:\n",
    "            preco[item] = 'NaN'\n",
    "            "
   ]
  },
  {
   "cell_type": "code",
   "execution_count": 421,
   "metadata": {},
   "outputs": [],
   "source": [
    "#transformando o dicionário em dataframe\n",
    "dfPreco = dic_dataframe(preco, 'preco')\n",
    "#função pra resetar o indice\n",
    "dfPreco = resetaIndex(dfPreco)\n",
    "#renomeando colunas\n",
    "renomeiaColuna(dfPreco, 'preco')"
   ]
  },
  {
   "cell_type": "code",
   "execution_count": 422,
   "metadata": {},
   "outputs": [],
   "source": [
    "#transformando as chaves em indice\n",
    "leftDF  = dfEditoras.set_index('isbn')\n",
    "rightDF = dfPreco.set_index('isbn')"
   ]
  },
  {
   "cell_type": "code",
   "execution_count": 423,
   "metadata": {},
   "outputs": [],
   "source": [
    "#incrementa as linhas faltantes do lado esquerdo com as do lado direito\n",
    "res = leftDF.reindex(columns=leftDF.columns.union(rightDF.columns))"
   ]
  },
  {
   "cell_type": "code",
   "execution_count": 424,
   "metadata": {},
   "outputs": [],
   "source": [
    "#atualiza os valores da esquerda baseado na direita\n",
    "res.update(rightDF)"
   ]
  },
  {
   "cell_type": "code",
   "execution_count": 425,
   "metadata": {},
   "outputs": [],
   "source": [
    "#função pra resetar o indice\n",
    "df_Editoras = resetaIndex(res)"
   ]
  },
  {
   "cell_type": "code",
   "execution_count": 426,
   "metadata": {},
   "outputs": [],
   "source": [
    "#adicionando a coluna de acabamento no dataframe\n",
    "df_Editoras = pd.merge(df_Editoras, dfAcabamento, left_on='isbn', right_on='isbn', how='left')"
   ]
  },
  {
   "cell_type": "code",
   "execution_count": 428,
   "metadata": {},
   "outputs": [],
   "source": [
    "df_Editoras['preco'] = df_Editoras['preco'].map(lambda x: x.lstrip('R$').rstrip(''))\n",
    "df_Editoras['preco'] = df_Editoras['preco'].map(lambda x: x.lstrip(' R$').rstrip(''))"
   ]
  },
  {
   "cell_type": "code",
   "execution_count": 429,
   "metadata": {},
   "outputs": [],
   "source": [
    "df_Editoras['preco'] = df_Editoras['preco'].str.replace(',', '.').astype(float)"
   ]
  },
  {
   "cell_type": "code",
   "execution_count": 431,
   "metadata": {},
   "outputs": [
    {
     "name": "stdout",
     "output_type": "stream",
     "text": [
      "<class 'pandas.core.frame.DataFrame'>\n",
      "Int64Index: 223 entries, 0 to 222\n",
      "Data columns (total 3 columns):\n",
      " #   Column      Non-Null Count  Dtype  \n",
      "---  ------      --------------  -----  \n",
      " 0   isbn        223 non-null    int64  \n",
      " 1   preco       176 non-null    float64\n",
      " 2   acabamento  223 non-null    object \n",
      "dtypes: float64(1), int64(1), object(1)\n",
      "memory usage: 7.0+ KB\n"
     ]
    }
   ],
   "source": [
    "df_Editoras.info()"
   ]
  },
  {
   "cell_type": "code",
   "execution_count": 432,
   "metadata": {},
   "outputs": [],
   "source": [
    "df_Editoras.to_excel('editorasPerola.xlsx')"
   ]
  },
  {
   "cell_type": "code",
   "execution_count": 376,
   "metadata": {},
   "outputs": [],
   "source": []
  }
 ],
 "metadata": {
  "kernelspec": {
   "display_name": "Python 3",
   "language": "python",
   "name": "python3"
  },
  "language_info": {
   "codemirror_mode": {
    "name": "ipython",
    "version": 3
   },
   "file_extension": ".py",
   "mimetype": "text/x-python",
   "name": "python",
   "nbconvert_exporter": "python",
   "pygments_lexer": "ipython3",
   "version": "3.8.5"
  }
 },
 "nbformat": 4,
 "nbformat_minor": 4
}
