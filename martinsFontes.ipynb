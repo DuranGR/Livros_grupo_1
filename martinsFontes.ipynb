{
 "cells": [
  {
   "cell_type": "code",
   "execution_count": null,
   "metadata": {},
   "outputs": [],
   "source": [
    "import pandas as pd\n",
    "from selenium.webdriver import Chrome\n",
    "from selenium import webdriver\n",
    "from time import sleep\n",
    "from tqdm.notebook import tqdm"
   ]
  },
  {
   "cell_type": "code",
   "execution_count": null,
   "metadata": {},
   "outputs": [],
   "source": [
    "preco = {}\n",
    "\n",
    "siteMFontes = 'https://www.martinsfontespaulista.com.br/'\n",
    "navegador.get(siteMFontes)\n",
    "with tqdm(total=len(siteMrtinsFontes)) as pbar:\n",
    "    for item in siteMrtinsFontes:\n",
    "        pbar.update(1)\n",
    "        try:\n",
    "            #chama a função do shadow root;\n",
    "            shadowRootPass(item)\n",
    "            \n",
    "            if navegador.find_element_by_xpath('//h3[@class=\"notifymetitle notifyme-title\"]').text == 'PRODUTO ESGOTADO NA EDITORA':\n",
    "                preco[item] = 'Não há informação'\n",
    "            elif len(navegador.find_elements_by_xpath('//strong[@class=\"skuListPrice\"]')) > 0:\n",
    "                preco[item] = navegador.find_element_by_xpath('//strong[@class=\"skuListPrice\"]').text\n",
    "            else:\n",
    "                container = navegador.find_element_by_xpath('//*[@id=\"main\"]/section[2]/div/div/div[2]/div[4]/div[1]/div[1]/div/p[1]/em[1]')\n",
    "                navegador.execute_script(\"arguments[0].style.display = 'block';\", container)\n",
    "                preco[item] = navegador.find_element_by_xpath('//strong[@class=\"skuBestPrice\"]').text\n",
    "                     \n",
    "        except:\n",
    "            preco[item]     = 'Não Encontrado'"
   ]
  },
  {
   "cell_type": "code",
   "execution_count": null,
   "metadata": {},
   "outputs": [],
   "source": [
    "acabamento = {}\n",
    "\n",
    "siteMFontes = 'https://www.martinsfontespaulista.com.br/'\n",
    "navegador.get(siteMFontes)\n",
    "with tqdm(total=len(siteMrtinsFontes)) as pbar:\n",
    "    for item in siteMrtinsFontes:\n",
    "        pbar.update(1)\n",
    "        try:\n",
    "            shadowRootPass(item)\n",
    "            #dá foco na ficha técnica para poder pega-lo:\n",
    "            element = navegador.find_element_by_xpath('//div[@class=\"product-details-tab\"]')\n",
    "            navegador.execute_script(\"arguments[0].scrollIntoView(true);\", element)\n",
    "            sleep(5)\n",
    "            #pega o texto\n",
    "            acabamento[item] = navegador.find_element_by_xpath('//td[@class=\"value-field Acabamento\"]').text\n",
    "        except:\n",
    "            acabamento[item] = 'Não Encontrado'"
   ]
  }
 ],
 "metadata": {
  "kernelspec": {
   "display_name": "Python 3",
   "language": "python",
   "name": "python3"
  },
  "language_info": {
   "codemirror_mode": {
    "name": "ipython",
    "version": 3
   },
   "file_extension": ".py",
   "mimetype": "text/x-python",
   "name": "python",
   "nbconvert_exporter": "python",
   "pygments_lexer": "ipython3",
   "version": "3.8.5"
  }
 },
 "nbformat": 4,
 "nbformat_minor": 4
}
